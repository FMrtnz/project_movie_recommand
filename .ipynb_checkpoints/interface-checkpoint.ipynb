{
 "cells": [
  {
   "cell_type": "code",
   "execution_count": null,
   "id": "d023dca7",
   "metadata": {},
   "outputs": [],
   "source": [
    "# Import libraries\n",
    "import mysql.connector\n",
    "import pandas as pd\n",
    "import streamlit as st\n",
    "import getpass\n",
    "import seaborn as sn\n",
    "from matplotlib import pyplot as plt\n",
    "import numpy as np"
   ]
  },
  {
   "cell_type": "code",
   "execution_count": null,
   "id": "ca176fc4",
   "metadata": {},
   "outputs": [],
   "source": [
    "#Cleaning process regarding the variable that has the \"time\" variable, and rename it to something easier to write\n",
    "\n",
    "title_basic[\"runtimeMinutes\"].dropna()  #drop all na from the desiered column \n",
    "title_basic[\"runtimeMinutes\"].unique()  #one value is \"nan\", need to remove it\n",
    "title_basic.rename(columns={\"runtimeMinutes\":\"minutes\"}, inplace=True) #change variable namefor something easier to write \n",
    "\n",
    "title_basic = title_basic.loc[title_basic[\"minutes\"].isna() != True, :]  #beyond the dropna(axis=1) this is the other method\n",
    "title_basic[\"minutes\"]=title_basic[\"minutes\"].astype(int, errors=\"ignore\")\n",
    "\n",
    "title_basic = title_basic.loc[title_basic[\"startYear\"].isna() != True, :] \n",
    "title_basic[\"titleType\"]=title_basic[\"titleType\"].str.lower()\n",
    "\n",
    "#filter only the titletypes we want, in total we get 2,343,750 rows\n",
    "filter_title=title_basic[title_basic[\"titleType\"].str.contains(\"movie|short|video\",na=True)]\n",
    "filter_title=filter_title.loc[(filter_title[\"titleType\"]!=\"videogame\") & (filter_title[\"titleType\"]!=\"tvpilot\") & (filter_title[\"titleType\"]!=\"tvshort\"),:]\n",
    "\n",
    "\n",
    "#variale \"endYear is all the time filled with NA's values, so i remove it \n",
    "filter_title.drop([\"endYear\"], axis=1, inplace=True)\n",
    "\n",
    "total=pd.merge(filter_title,title_episode,how=\"left\",on=\"tconst\")\n",
    "total.drop([\"parentTconst\",\"seasonNumber\",\"episodeNumber\"], axis=1, inplace=True)\n",
    "total.info()\n",
    "#can see that there is any type of movie/short/tvmovie/video with a parentTconst. So it is all good, continue with the filter_title\n",
    "\n",
    "\n",
    "#transform minutes into a intenger varaible (instead of an object)\n",
    "total[\"minutes\"]=total[\"minutes\"].astype(int)\n",
    "\n",
    "\n",
    "# want to see what is the mean time (in minutes) each title type has througout the years\n",
    "title_basic_table= total.pivot_table(index=\"startYear\", columns= \"titleType\", values = \"minutes\", aggfunc=\"mean\" )\n",
    "title_basic_table.reset_index(inplace=True )\n",
    "\n",
    "#does not make sense to have rows from products that still do not exist, so filter out products from 2022 onwards\n",
    "title_basic_table = title_basic_table.loc[title_basic_table[\"startYear\"] <= 2022,:]\n",
    "\n",
    "\n"
   ]
  },
  {
   "cell_type": "code",
   "execution_count": null,
   "id": "76c2d5b3",
   "metadata": {},
   "outputs": [],
   "source": [
    "#first visualization to display in the interface \n",
    "\n",
    "sn.set(rc = {'figure.figsize':(15,8)})\n",
    "sn.set_style(\"white\")  \n",
    "\n",
    "sn.lineplot(data=title_basic_table, x=\"startYear\", y=\"movie\", color=\"blue\", label = \"Movie\")\n",
    "sn.lineplot(data=title_basic_table, x=\"startYear\", y=\"short\", color=\"purple\", label = \"Short\")\n",
    "sn.lineplot(data=title_basic_table, x=\"startYear\", y=\"tvmovie\", color=\"black\", label = \"TV Movie\")\n",
    "#sn.lineplot(data=title_basic_table, x=\"startYear\", y=\"tvshort\", color=\"orange\", label = \"TV Short\")\n",
    "#sn.lineplot(data=title_basic_table, x=\"startYear\", y=\"tvspecial\", color=\"red\", label = \"TV Special\")\n",
    "sn.lineplot(data=title_basic_table, x=\"startYear\", y=\"video\", color=\"orange\", label = \"Video\")#.set(title=\"The length evolution of media products\", ylabel=\"Minutes\", xlabel=\"Year\")\n",
    "plt.legend(title='Media Products:', fontsize=12)\n",
    "plt.xlabel('Year', fontsize=20);\n",
    "plt.ylabel('Minutes', fontsize=20);\n",
    "plt.title('The length evolution of media products', fontsize=25)\n",
    "plt.tick_params(axis='both', which='major', labelsize=15)\n",
    "#sn.lineplot(data=title_basic_table, x=\"startYear\", y=\"videoGame\", color=\"purple\", label = \"Video Game\").set(title=\"The length evolution of media products\", ylabel=\"Minutes\", xlabel=\"Year\")\n"
   ]
  },
  {
   "cell_type": "code",
   "execution_count": null,
   "id": "5835d98c",
   "metadata": {},
   "outputs": [],
   "source": [
    "#overall we plan to see if movies/videos/short/tvshort/tvmovie (..) all together how was the evolution\n",
    "title_basic= total.pivot_table(index=\"startYear\", values = \"minutes\", aggfunc=\"mean\" )\n",
    "title_basic.reset_index(inplace=True)\n",
    "title_basic=title_basic.loc[title_basic[\"startYear\"]<= 2022,:]\n"
   ]
  },
  {
   "cell_type": "code",
   "execution_count": null,
   "id": "37e32778",
   "metadata": {},
   "outputs": [],
   "source": [
    "#second visualization \n",
    "\n",
    "sn.set(rc = {'figure.figsize':(15,8)})\n",
    "sn.set_style(\"white\")  \n",
    "sn.lineplot(data=title_basic, x=\"startYear\", y=\"minutes\")\n",
    "plt.xlabel('Year', fontsize=20);\n",
    "plt.ylabel('Minutes', fontsize=20);\n",
    "plt.title(\"Average length of movies/videos/tvmovies/short from 1874-2021\", fontsize=25)\n",
    "plt.tick_params(axis='both', which='major', labelsize=15)"
   ]
  }
 ],
 "metadata": {
  "kernelspec": {
   "display_name": "Python 3",
   "language": "python",
   "name": "python3"
  },
  "language_info": {
   "codemirror_mode": {
    "name": "ipython",
    "version": 3
   },
   "file_extension": ".py",
   "mimetype": "text/x-python",
   "name": "python",
   "nbconvert_exporter": "python",
   "pygments_lexer": "ipython3",
   "version": "3.7.1"
  }
 },
 "nbformat": 4,
 "nbformat_minor": 5
}
