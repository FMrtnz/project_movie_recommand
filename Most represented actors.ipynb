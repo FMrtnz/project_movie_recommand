{
 "cells": [
  {
   "cell_type": "markdown",
   "id": "dfb4d6fb",
   "metadata": {},
   "source": [
    "# To do:\n",
    "* correlation age of actor over representation in medias\n",
    "* sperate actors and actress"
   ]
  },
  {
   "cell_type": "code",
   "execution_count": 4,
   "id": "d40e154b",
   "metadata": {},
   "outputs": [],
   "source": [
    "import pandas as pd"
   ]
  },
  {
   "cell_type": "code",
   "execution_count": 2,
   "id": "eb590829",
   "metadata": {},
   "outputs": [
    {
     "name": "stderr",
     "output_type": "stream",
     "text": [
      "C:\\Users\\SushX\\anaconda3\\lib\\site-packages\\IPython\\core\\interactiveshell.py:3444: FutureWarning: In a future version of pandas all arguments of read_csv except for the argument 'filepath_or_buffer' will be keyword-only\n",
      "  exec(code_obj, self.user_global_ns, self.user_ns)\n",
      "C:\\Users\\SushX\\anaconda3\\lib\\site-packages\\IPython\\core\\interactiveshell.py:3444: DtypeWarning: Columns (4,5) have mixed types.Specify dtype option on import or set low_memory=False.\n",
      "  exec(code_obj, self.user_global_ns, self.user_ns)\n"
     ]
    },
    {
     "data": {
      "text/html": [
       "<div>\n",
       "<style scoped>\n",
       "    .dataframe tbody tr th:only-of-type {\n",
       "        vertical-align: middle;\n",
       "    }\n",
       "\n",
       "    .dataframe tbody tr th {\n",
       "        vertical-align: top;\n",
       "    }\n",
       "\n",
       "    .dataframe thead th {\n",
       "        text-align: right;\n",
       "    }\n",
       "</style>\n",
       "<table border=\"1\" class=\"dataframe\">\n",
       "  <thead>\n",
       "    <tr style=\"text-align: right;\">\n",
       "      <th></th>\n",
       "      <th>tconst</th>\n",
       "      <th>titleType</th>\n",
       "      <th>primaryTitle</th>\n",
       "      <th>originalTitle</th>\n",
       "      <th>isAdult</th>\n",
       "      <th>startYear</th>\n",
       "      <th>endYear</th>\n",
       "      <th>runtimeMinutes</th>\n",
       "      <th>genres</th>\n",
       "    </tr>\n",
       "  </thead>\n",
       "  <tbody>\n",
       "    <tr>\n",
       "      <th>0</th>\n",
       "      <td>tt0000001</td>\n",
       "      <td>short</td>\n",
       "      <td>Carmencita</td>\n",
       "      <td>Carmencita</td>\n",
       "      <td>0</td>\n",
       "      <td>1894</td>\n",
       "      <td>\\N</td>\n",
       "      <td>1</td>\n",
       "      <td>Documentary,Short</td>\n",
       "    </tr>\n",
       "    <tr>\n",
       "      <th>1</th>\n",
       "      <td>tt0000002</td>\n",
       "      <td>short</td>\n",
       "      <td>Le clown et ses chiens</td>\n",
       "      <td>Le clown et ses chiens</td>\n",
       "      <td>0</td>\n",
       "      <td>1892</td>\n",
       "      <td>\\N</td>\n",
       "      <td>5</td>\n",
       "      <td>Animation,Short</td>\n",
       "    </tr>\n",
       "    <tr>\n",
       "      <th>2</th>\n",
       "      <td>tt0000003</td>\n",
       "      <td>short</td>\n",
       "      <td>Pauvre Pierrot</td>\n",
       "      <td>Pauvre Pierrot</td>\n",
       "      <td>0</td>\n",
       "      <td>1892</td>\n",
       "      <td>\\N</td>\n",
       "      <td>4</td>\n",
       "      <td>Animation,Comedy,Romance</td>\n",
       "    </tr>\n",
       "    <tr>\n",
       "      <th>3</th>\n",
       "      <td>tt0000004</td>\n",
       "      <td>short</td>\n",
       "      <td>Un bon bock</td>\n",
       "      <td>Un bon bock</td>\n",
       "      <td>0</td>\n",
       "      <td>1892</td>\n",
       "      <td>\\N</td>\n",
       "      <td>12</td>\n",
       "      <td>Animation,Short</td>\n",
       "    </tr>\n",
       "    <tr>\n",
       "      <th>4</th>\n",
       "      <td>tt0000005</td>\n",
       "      <td>short</td>\n",
       "      <td>Blacksmith Scene</td>\n",
       "      <td>Blacksmith Scene</td>\n",
       "      <td>0</td>\n",
       "      <td>1893</td>\n",
       "      <td>\\N</td>\n",
       "      <td>1</td>\n",
       "      <td>Comedy,Short</td>\n",
       "    </tr>\n",
       "  </tbody>\n",
       "</table>\n",
       "</div>"
      ],
      "text/plain": [
       "      tconst titleType            primaryTitle           originalTitle  \\\n",
       "0  tt0000001     short              Carmencita              Carmencita   \n",
       "1  tt0000002     short  Le clown et ses chiens  Le clown et ses chiens   \n",
       "2  tt0000003     short          Pauvre Pierrot          Pauvre Pierrot   \n",
       "3  tt0000004     short             Un bon bock             Un bon bock   \n",
       "4  tt0000005     short        Blacksmith Scene        Blacksmith Scene   \n",
       "\n",
       "  isAdult startYear endYear runtimeMinutes                    genres  \n",
       "0       0      1894      \\N              1         Documentary,Short  \n",
       "1       0      1892      \\N              5           Animation,Short  \n",
       "2       0      1892      \\N              4  Animation,Comedy,Romance  \n",
       "3       0      1892      \\N             12           Animation,Short  \n",
       "4       0      1893      \\N              1              Comedy,Short  "
      ]
     },
     "execution_count": 2,
     "metadata": {},
     "output_type": "execute_result"
    }
   ],
   "source": [
    "df_t_basics = pd.read_csv(\"./imdb/title.basics.tsv\",'\\t')\n",
    "df_t_basics.head()"
   ]
  },
  {
   "cell_type": "code",
   "execution_count": 3,
   "id": "b19a56dc",
   "metadata": {},
   "outputs": [
    {
     "name": "stdout",
     "output_type": "stream",
     "text": [
      "(8824341, 9)\n",
      "(8824341, 9)\n"
     ]
    }
   ],
   "source": [
    "print(df_t_basics.shape)\n",
    "df_t_basics.drop_duplicates()\n",
    "print(df_t_basics.shape)"
   ]
  },
  {
   "cell_type": "code",
   "execution_count": 4,
   "id": "a495b991",
   "metadata": {},
   "outputs": [
    {
     "data": {
      "text/plain": [
       "tvEpisode       6616225\n",
       "short            863404\n",
       "movie            606395\n",
       "video            258969\n",
       "tvSeries         223071\n",
       "tvMovie          135614\n",
       "tvMiniSeries      42849\n",
       "tvSpecial         36476\n",
       "videoGame         30824\n",
       "tvShort           10512\n",
       "tvPilot               2\n",
       "Name: titleType, dtype: int64"
      ]
     },
     "execution_count": 4,
     "metadata": {},
     "output_type": "execute_result"
    }
   ],
   "source": [
    "df_t_basics['titleType'].value_counts()"
   ]
  },
  {
   "cell_type": "markdown",
   "id": "823abfc5",
   "metadata": {},
   "source": [
    "### Top types of titles are\n",
    "Joana checked there is no overlaping, meaning that each title has a unique type\n",
    "Also, tvSeries all have at least one episode, so we can drop this whole cathegory\n",
    "- tvEpisodes\n",
    "- short\n",
    "- movie\n",
    "- video\n",
    "- tvMovie"
   ]
  },
  {
   "cell_type": "markdown",
   "id": "ae6038ec",
   "metadata": {},
   "source": [
    "# Let's check if there are some espisodes not in series, or the oposite"
   ]
  },
  {
   "cell_type": "code",
   "execution_count": null,
   "id": "ea900b13",
   "metadata": {},
   "outputs": [],
   "source": [
    "df_t_basics.groupby('tconst').count('titleType')"
   ]
  },
  {
   "cell_type": "markdown",
   "id": "4ca5894d",
   "metadata": {},
   "source": [
    "# Is the length of titles a relevant criteria to be part of our recommendation?\n",
    "Let's check length for each top cathegory"
   ]
  },
  {
   "cell_type": "code",
   "execution_count": 5,
   "id": "0c94f7cb",
   "metadata": {},
   "outputs": [
    {
     "data": {
      "text/plain": [
       "30.0"
      ]
     },
     "execution_count": 5,
     "metadata": {},
     "output_type": "execute_result"
    }
   ],
   "source": [
    "df_short = df_t_basics[df_t_basics['titleType']=='short']\n",
    "df_short_runtime=df_short[df_short['runtimeMinutes'] != '\\\\N'][['tconst','runtimeMinutes']]\n",
    "df_short_runtime['runtimeMinutes']=df_short_runtime['runtimeMinutes'].astype(int)\n",
    "df_short_runtime['runtimeMinutes'].quantile(0.95)"
   ]
  },
  {
   "cell_type": "markdown",
   "id": "5afd6550",
   "metadata": {},
   "source": [
    "### 95% of shorts last less than 30 minutes.\n",
    "Maybe we don't want them to be recommended for our Middle-of-NoWhere cinema"
   ]
  },
  {
   "cell_type": "code",
   "execution_count": 6,
   "id": "db039869",
   "metadata": {},
   "outputs": [
    {
     "name": "stdout",
     "output_type": "stream",
     "text": [
      "33% less than  21.0\n",
      "50% less than  60.0\n"
     ]
    }
   ],
   "source": [
    "df_short = df_t_basics[df_t_basics['titleType']=='video']\n",
    "df_short_runtime=df_short[df_short['runtimeMinutes'] != '\\\\N'][['tconst','runtimeMinutes']]\n",
    "df_short_runtime['runtimeMinutes']=df_short_runtime['runtimeMinutes'].astype(int)\n",
    "print('33% less than ',df_short_runtime['runtimeMinutes'].quantile(0.33))\n",
    "print('50% less than ',df_short_runtime['runtimeMinutes'].quantile(0.5))"
   ]
  },
  {
   "cell_type": "markdown",
   "id": "884232a9",
   "metadata": {},
   "source": [
    "### 50% of videos last less than 60 minutes.\n",
    "Maybe we don't want them to be recommended for our Middle-of-NoWhere cinema"
   ]
  },
  {
   "cell_type": "code",
   "execution_count": 7,
   "id": "6607fcd7",
   "metadata": {},
   "outputs": [
    {
     "name": "stdout",
     "output_type": "stream",
     "text": [
      "10% less than  30.0\n",
      "25% less than  48.0\n"
     ]
    }
   ],
   "source": [
    "df_short = df_t_basics[df_t_basics['titleType']=='tvMovie']\n",
    "df_short_runtime=df_short[df_short['runtimeMinutes'] != '\\\\N'][['tconst','runtimeMinutes']]\n",
    "df_short_runtime['runtimeMinutes']=df_short_runtime['runtimeMinutes'].astype(int)\n",
    "print('10% less than ',df_short_runtime['runtimeMinutes'].quantile(0.10))\n",
    "print('25% less than ',df_short_runtime['runtimeMinutes'].quantile(0.25))"
   ]
  },
  {
   "cell_type": "markdown",
   "id": "cfdfda9d",
   "metadata": {},
   "source": [
    "### 75% of tvMovies last more than 48 minutes.\n",
    "Maybe we would want to recommend some for our Middle-of-NoWhere cinema"
   ]
  },
  {
   "cell_type": "code",
   "execution_count": 8,
   "id": "cdcda7ab",
   "metadata": {},
   "outputs": [
    {
     "name": "stderr",
     "output_type": "stream",
     "text": [
      "C:\\Users\\SushX\\anaconda3\\lib\\site-packages\\IPython\\core\\interactiveshell.py:3444: FutureWarning: In a future version of pandas all arguments of read_csv except for the argument 'filepath_or_buffer' will be keyword-only\n",
      "  exec(code_obj, self.user_global_ns, self.user_ns)\n"
     ]
    },
    {
     "data": {
      "text/html": [
       "<div>\n",
       "<style scoped>\n",
       "    .dataframe tbody tr th:only-of-type {\n",
       "        vertical-align: middle;\n",
       "    }\n",
       "\n",
       "    .dataframe tbody tr th {\n",
       "        vertical-align: top;\n",
       "    }\n",
       "\n",
       "    .dataframe thead th {\n",
       "        text-align: right;\n",
       "    }\n",
       "</style>\n",
       "<table border=\"1\" class=\"dataframe\">\n",
       "  <thead>\n",
       "    <tr style=\"text-align: right;\">\n",
       "      <th></th>\n",
       "      <th>tconst</th>\n",
       "      <th>ordering</th>\n",
       "      <th>nconst</th>\n",
       "      <th>category</th>\n",
       "      <th>job</th>\n",
       "      <th>characters</th>\n",
       "    </tr>\n",
       "  </thead>\n",
       "  <tbody>\n",
       "    <tr>\n",
       "      <th>0</th>\n",
       "      <td>tt0000001</td>\n",
       "      <td>1</td>\n",
       "      <td>nm1588970</td>\n",
       "      <td>self</td>\n",
       "      <td>\\N</td>\n",
       "      <td>[\"Self\"]</td>\n",
       "    </tr>\n",
       "    <tr>\n",
       "      <th>1</th>\n",
       "      <td>tt0000001</td>\n",
       "      <td>2</td>\n",
       "      <td>nm0005690</td>\n",
       "      <td>director</td>\n",
       "      <td>\\N</td>\n",
       "      <td>\\N</td>\n",
       "    </tr>\n",
       "    <tr>\n",
       "      <th>2</th>\n",
       "      <td>tt0000001</td>\n",
       "      <td>3</td>\n",
       "      <td>nm0374658</td>\n",
       "      <td>cinematographer</td>\n",
       "      <td>director of photography</td>\n",
       "      <td>\\N</td>\n",
       "    </tr>\n",
       "    <tr>\n",
       "      <th>3</th>\n",
       "      <td>tt0000002</td>\n",
       "      <td>1</td>\n",
       "      <td>nm0721526</td>\n",
       "      <td>director</td>\n",
       "      <td>\\N</td>\n",
       "      <td>\\N</td>\n",
       "    </tr>\n",
       "    <tr>\n",
       "      <th>4</th>\n",
       "      <td>tt0000002</td>\n",
       "      <td>2</td>\n",
       "      <td>nm1335271</td>\n",
       "      <td>composer</td>\n",
       "      <td>\\N</td>\n",
       "      <td>\\N</td>\n",
       "    </tr>\n",
       "  </tbody>\n",
       "</table>\n",
       "</div>"
      ],
      "text/plain": [
       "      tconst  ordering     nconst         category                      job  \\\n",
       "0  tt0000001         1  nm1588970             self                       \\N   \n",
       "1  tt0000001         2  nm0005690         director                       \\N   \n",
       "2  tt0000001         3  nm0374658  cinematographer  director of photography   \n",
       "3  tt0000002         1  nm0721526         director                       \\N   \n",
       "4  tt0000002         2  nm1335271         composer                       \\N   \n",
       "\n",
       "  characters  \n",
       "0   [\"Self\"]  \n",
       "1         \\N  \n",
       "2         \\N  \n",
       "3         \\N  \n",
       "4         \\N  "
      ]
     },
     "execution_count": 8,
     "metadata": {},
     "output_type": "execute_result"
    }
   ],
   "source": [
    "df_t_principals = pd.read_csv(\"./imdb/title.principals.tsv\",'\\t')\n",
    "df_t_principals.head()"
   ]
  },
  {
   "cell_type": "code",
   "execution_count": 9,
   "id": "f890a06b",
   "metadata": {},
   "outputs": [
    {
     "name": "stdout",
     "output_type": "stream",
     "text": [
      "(49736924, 6)\n",
      "(49736924, 6)\n"
     ]
    }
   ],
   "source": [
    "print(df_t_principals.shape)\n",
    "df_t_principals.drop_duplicates(inplace=True)\n",
    "print(df_t_principals.shape)"
   ]
  },
  {
   "cell_type": "code",
   "execution_count": 10,
   "id": "195e8ad7",
   "metadata": {},
   "outputs": [
    {
     "data": {
      "text/plain": [
       "\\N    19550706\n",
       "Name: job, dtype: int64"
      ]
     },
     "execution_count": 10,
     "metadata": {},
     "output_type": "execute_result"
    }
   ],
   "source": [
    "df_t_principals[(df_t_principals['category']=='actor') | (df_t_principals['category']=='actress')]['job'].value_counts()"
   ]
  },
  {
   "cell_type": "code",
   "execution_count": 11,
   "id": "94985f2f",
   "metadata": {},
   "outputs": [
    {
     "data": {
      "text/html": [
       "<div>\n",
       "<style scoped>\n",
       "    .dataframe tbody tr th:only-of-type {\n",
       "        vertical-align: middle;\n",
       "    }\n",
       "\n",
       "    .dataframe tbody tr th {\n",
       "        vertical-align: top;\n",
       "    }\n",
       "\n",
       "    .dataframe thead th {\n",
       "        text-align: right;\n",
       "    }\n",
       "</style>\n",
       "<table border=\"1\" class=\"dataframe\">\n",
       "  <thead>\n",
       "    <tr style=\"text-align: right;\">\n",
       "      <th></th>\n",
       "      <th>tconst</th>\n",
       "      <th>ordering</th>\n",
       "      <th>nconst</th>\n",
       "      <th>category</th>\n",
       "      <th>job</th>\n",
       "      <th>characters</th>\n",
       "    </tr>\n",
       "  </thead>\n",
       "  <tbody>\n",
       "    <tr>\n",
       "      <th>11</th>\n",
       "      <td>tt0000005</td>\n",
       "      <td>1</td>\n",
       "      <td>nm0443482</td>\n",
       "      <td>actor</td>\n",
       "      <td>\\N</td>\n",
       "      <td>[\"Blacksmith\"]</td>\n",
       "    </tr>\n",
       "    <tr>\n",
       "      <th>12</th>\n",
       "      <td>tt0000005</td>\n",
       "      <td>2</td>\n",
       "      <td>nm0653042</td>\n",
       "      <td>actor</td>\n",
       "      <td>\\N</td>\n",
       "      <td>[\"Assistant\"]</td>\n",
       "    </tr>\n",
       "    <tr>\n",
       "      <th>16</th>\n",
       "      <td>tt0000007</td>\n",
       "      <td>1</td>\n",
       "      <td>nm0179163</td>\n",
       "      <td>actor</td>\n",
       "      <td>\\N</td>\n",
       "      <td>\\N</td>\n",
       "    </tr>\n",
       "    <tr>\n",
       "      <th>17</th>\n",
       "      <td>tt0000007</td>\n",
       "      <td>2</td>\n",
       "      <td>nm0183947</td>\n",
       "      <td>actor</td>\n",
       "      <td>\\N</td>\n",
       "      <td>\\N</td>\n",
       "    </tr>\n",
       "    <tr>\n",
       "      <th>21</th>\n",
       "      <td>tt0000008</td>\n",
       "      <td>1</td>\n",
       "      <td>nm0653028</td>\n",
       "      <td>actor</td>\n",
       "      <td>\\N</td>\n",
       "      <td>[\"Sneezing Man\"]</td>\n",
       "    </tr>\n",
       "    <tr>\n",
       "      <th>...</th>\n",
       "      <td>...</td>\n",
       "      <td>...</td>\n",
       "      <td>...</td>\n",
       "      <td>...</td>\n",
       "      <td>...</td>\n",
       "      <td>...</td>\n",
       "    </tr>\n",
       "    <tr>\n",
       "      <th>49736911</th>\n",
       "      <td>tt9916856</td>\n",
       "      <td>4</td>\n",
       "      <td>nm10538647</td>\n",
       "      <td>actress</td>\n",
       "      <td>\\N</td>\n",
       "      <td>[\"Kathi\"]</td>\n",
       "    </tr>\n",
       "    <tr>\n",
       "      <th>49736916</th>\n",
       "      <td>tt9916880</td>\n",
       "      <td>1</td>\n",
       "      <td>nm1483166</td>\n",
       "      <td>actor</td>\n",
       "      <td>\\N</td>\n",
       "      <td>[\"Rude Ralph\",\"Mischievous Mike\",\"Jolly Josh\"]</td>\n",
       "    </tr>\n",
       "    <tr>\n",
       "      <th>49736917</th>\n",
       "      <td>tt9916880</td>\n",
       "      <td>2</td>\n",
       "      <td>nm0254176</td>\n",
       "      <td>actress</td>\n",
       "      <td>\\N</td>\n",
       "      <td>[\"Moody Margaret\"]</td>\n",
       "    </tr>\n",
       "    <tr>\n",
       "      <th>49736918</th>\n",
       "      <td>tt9916880</td>\n",
       "      <td>3</td>\n",
       "      <td>nm0286175</td>\n",
       "      <td>actor</td>\n",
       "      <td>\\N</td>\n",
       "      <td>[\"Dad\",\"Aerobic Al\",\"Nasty Nicola\"]</td>\n",
       "    </tr>\n",
       "    <tr>\n",
       "      <th>49736919</th>\n",
       "      <td>tt9916880</td>\n",
       "      <td>4</td>\n",
       "      <td>nm10535738</td>\n",
       "      <td>actress</td>\n",
       "      <td>\\N</td>\n",
       "      <td>[\"Horrid Henry\"]</td>\n",
       "    </tr>\n",
       "  </tbody>\n",
       "</table>\n",
       "<p>19550706 rows × 6 columns</p>\n",
       "</div>"
      ],
      "text/plain": [
       "             tconst  ordering      nconst category job  \\\n",
       "11        tt0000005         1   nm0443482    actor  \\N   \n",
       "12        tt0000005         2   nm0653042    actor  \\N   \n",
       "16        tt0000007         1   nm0179163    actor  \\N   \n",
       "17        tt0000007         2   nm0183947    actor  \\N   \n",
       "21        tt0000008         1   nm0653028    actor  \\N   \n",
       "...             ...       ...         ...      ...  ..   \n",
       "49736911  tt9916856         4  nm10538647  actress  \\N   \n",
       "49736916  tt9916880         1   nm1483166    actor  \\N   \n",
       "49736917  tt9916880         2   nm0254176  actress  \\N   \n",
       "49736918  tt9916880         3   nm0286175    actor  \\N   \n",
       "49736919  tt9916880         4  nm10535738  actress  \\N   \n",
       "\n",
       "                                              characters  \n",
       "11                                        [\"Blacksmith\"]  \n",
       "12                                         [\"Assistant\"]  \n",
       "16                                                    \\N  \n",
       "17                                                    \\N  \n",
       "21                                      [\"Sneezing Man\"]  \n",
       "...                                                  ...  \n",
       "49736911                                       [\"Kathi\"]  \n",
       "49736916  [\"Rude Ralph\",\"Mischievous Mike\",\"Jolly Josh\"]  \n",
       "49736917                              [\"Moody Margaret\"]  \n",
       "49736918             [\"Dad\",\"Aerobic Al\",\"Nasty Nicola\"]  \n",
       "49736919                                [\"Horrid Henry\"]  \n",
       "\n",
       "[19550706 rows x 6 columns]"
      ]
     },
     "execution_count": 11,
     "metadata": {},
     "output_type": "execute_result"
    }
   ],
   "source": [
    "df_actors = df_t_principals[(df_t_principals['category']=='actor') | (df_t_principals['category']=='actress')]\n",
    "df_actors"
   ]
  },
  {
   "cell_type": "code",
   "execution_count": 12,
   "id": "ee18d545",
   "metadata": {},
   "outputs": [
    {
     "data": {
      "text/html": [
       "<div>\n",
       "<style scoped>\n",
       "    .dataframe tbody tr th:only-of-type {\n",
       "        vertical-align: middle;\n",
       "    }\n",
       "\n",
       "    .dataframe tbody tr th {\n",
       "        vertical-align: top;\n",
       "    }\n",
       "\n",
       "    .dataframe thead th {\n",
       "        text-align: right;\n",
       "    }\n",
       "</style>\n",
       "<table border=\"1\" class=\"dataframe\">\n",
       "  <thead>\n",
       "    <tr style=\"text-align: right;\">\n",
       "      <th></th>\n",
       "      <th>tconst</th>\n",
       "      <th>ordering</th>\n",
       "      <th>nconst</th>\n",
       "      <th>category</th>\n",
       "      <th>job</th>\n",
       "      <th>characters</th>\n",
       "      <th>titleType</th>\n",
       "      <th>originalTitle</th>\n",
       "    </tr>\n",
       "  </thead>\n",
       "  <tbody>\n",
       "    <tr>\n",
       "      <th>0</th>\n",
       "      <td>tt0000005</td>\n",
       "      <td>1</td>\n",
       "      <td>nm0443482</td>\n",
       "      <td>actor</td>\n",
       "      <td>\\N</td>\n",
       "      <td>[\"Blacksmith\"]</td>\n",
       "      <td>short</td>\n",
       "      <td>Blacksmith Scene</td>\n",
       "    </tr>\n",
       "    <tr>\n",
       "      <th>1</th>\n",
       "      <td>tt0000005</td>\n",
       "      <td>2</td>\n",
       "      <td>nm0653042</td>\n",
       "      <td>actor</td>\n",
       "      <td>\\N</td>\n",
       "      <td>[\"Assistant\"]</td>\n",
       "      <td>short</td>\n",
       "      <td>Blacksmith Scene</td>\n",
       "    </tr>\n",
       "    <tr>\n",
       "      <th>2</th>\n",
       "      <td>tt0000007</td>\n",
       "      <td>1</td>\n",
       "      <td>nm0179163</td>\n",
       "      <td>actor</td>\n",
       "      <td>\\N</td>\n",
       "      <td>\\N</td>\n",
       "      <td>short</td>\n",
       "      <td>Corbett and Courtney Before the Kinetograph</td>\n",
       "    </tr>\n",
       "    <tr>\n",
       "      <th>3</th>\n",
       "      <td>tt0000007</td>\n",
       "      <td>2</td>\n",
       "      <td>nm0183947</td>\n",
       "      <td>actor</td>\n",
       "      <td>\\N</td>\n",
       "      <td>\\N</td>\n",
       "      <td>short</td>\n",
       "      <td>Corbett and Courtney Before the Kinetograph</td>\n",
       "    </tr>\n",
       "    <tr>\n",
       "      <th>4</th>\n",
       "      <td>tt0000008</td>\n",
       "      <td>1</td>\n",
       "      <td>nm0653028</td>\n",
       "      <td>actor</td>\n",
       "      <td>\\N</td>\n",
       "      <td>[\"Sneezing Man\"]</td>\n",
       "      <td>short</td>\n",
       "      <td>Edison Kinetoscopic Record of a Sneeze</td>\n",
       "    </tr>\n",
       "  </tbody>\n",
       "</table>\n",
       "</div>"
      ],
      "text/plain": [
       "      tconst  ordering     nconst category job        characters titleType  \\\n",
       "0  tt0000005         1  nm0443482    actor  \\N    [\"Blacksmith\"]     short   \n",
       "1  tt0000005         2  nm0653042    actor  \\N     [\"Assistant\"]     short   \n",
       "2  tt0000007         1  nm0179163    actor  \\N                \\N     short   \n",
       "3  tt0000007         2  nm0183947    actor  \\N                \\N     short   \n",
       "4  tt0000008         1  nm0653028    actor  \\N  [\"Sneezing Man\"]     short   \n",
       "\n",
       "                                 originalTitle  \n",
       "0                             Blacksmith Scene  \n",
       "1                             Blacksmith Scene  \n",
       "2  Corbett and Courtney Before the Kinetograph  \n",
       "3  Corbett and Courtney Before the Kinetograph  \n",
       "4       Edison Kinetoscopic Record of a Sneeze  "
      ]
     },
     "execution_count": 12,
     "metadata": {},
     "output_type": "execute_result"
    }
   ],
   "source": [
    "df_merge_actors = df_actors.merge(df_t_basics[['tconst','titleType','originalTitle']], how=\"left\", on=\"tconst\")\n",
    "df_merge_actors.head()"
   ]
  },
  {
   "cell_type": "code",
   "execution_count": 13,
   "id": "d008d969",
   "metadata": {},
   "outputs": [
    {
     "data": {
      "text/html": [
       "<div>\n",
       "<style scoped>\n",
       "    .dataframe tbody tr th:only-of-type {\n",
       "        vertical-align: middle;\n",
       "    }\n",
       "\n",
       "    .dataframe tbody tr th {\n",
       "        vertical-align: top;\n",
       "    }\n",
       "\n",
       "    .dataframe thead th {\n",
       "        text-align: right;\n",
       "    }\n",
       "</style>\n",
       "<table border=\"1\" class=\"dataframe\">\n",
       "  <thead>\n",
       "    <tr style=\"text-align: right;\">\n",
       "      <th></th>\n",
       "      <th>titleType</th>\n",
       "      <th>nconst</th>\n",
       "      <th>tconst</th>\n",
       "    </tr>\n",
       "  </thead>\n",
       "  <tbody>\n",
       "    <tr>\n",
       "      <th>23521</th>\n",
       "      <td>movie</td>\n",
       "      <td>nm0103977</td>\n",
       "      <td>797</td>\n",
       "    </tr>\n",
       "    <tr>\n",
       "      <th>116093</th>\n",
       "      <td>movie</td>\n",
       "      <td>nm0648803</td>\n",
       "      <td>563</td>\n",
       "    </tr>\n",
       "    <tr>\n",
       "      <th>3320</th>\n",
       "      <td>movie</td>\n",
       "      <td>nm0006982</td>\n",
       "      <td>561</td>\n",
       "    </tr>\n",
       "    <tr>\n",
       "      <th>59865</th>\n",
       "      <td>movie</td>\n",
       "      <td>nm0305182</td>\n",
       "      <td>511</td>\n",
       "    </tr>\n",
       "    <tr>\n",
       "      <th>125046</th>\n",
       "      <td>movie</td>\n",
       "      <td>nm0706691</td>\n",
       "      <td>471</td>\n",
       "    </tr>\n",
       "  </tbody>\n",
       "</table>\n",
       "</div>"
      ],
      "text/plain": [
       "       titleType     nconst  tconst\n",
       "23521      movie  nm0103977     797\n",
       "116093     movie  nm0648803     563\n",
       "3320       movie  nm0006982     561\n",
       "59865      movie  nm0305182     511\n",
       "125046     movie  nm0706691     471"
      ]
     },
     "execution_count": 13,
     "metadata": {},
     "output_type": "execute_result"
    }
   ],
   "source": [
    "df_most_present_actors = df_merge_actors.groupby(['titleType','nconst'])['tconst'].count().reset_index().sort_values(['titleType','tconst'], ascending=[True,False])\n",
    "df_most_present_actors.head()"
   ]
  },
  {
   "cell_type": "code",
   "execution_count": 14,
   "id": "bb2aa7c4",
   "metadata": {
    "scrolled": false
   },
   "outputs": [
    {
     "name": "stderr",
     "output_type": "stream",
     "text": [
      "C:\\Users\\SushX\\anaconda3\\lib\\site-packages\\IPython\\core\\interactiveshell.py:3444: FutureWarning: In a future version of pandas all arguments of read_csv except for the argument 'filepath_or_buffer' will be keyword-only\n",
      "  exec(code_obj, self.user_global_ns, self.user_ns)\n"
     ]
    },
    {
     "data": {
      "text/html": [
       "<div>\n",
       "<style scoped>\n",
       "    .dataframe tbody tr th:only-of-type {\n",
       "        vertical-align: middle;\n",
       "    }\n",
       "\n",
       "    .dataframe tbody tr th {\n",
       "        vertical-align: top;\n",
       "    }\n",
       "\n",
       "    .dataframe thead th {\n",
       "        text-align: right;\n",
       "    }\n",
       "</style>\n",
       "<table border=\"1\" class=\"dataframe\">\n",
       "  <thead>\n",
       "    <tr style=\"text-align: right;\">\n",
       "      <th></th>\n",
       "      <th>nconst</th>\n",
       "      <th>primaryName</th>\n",
       "      <th>birthYear</th>\n",
       "      <th>deathYear</th>\n",
       "      <th>primaryProfession</th>\n",
       "      <th>knownForTitles</th>\n",
       "    </tr>\n",
       "  </thead>\n",
       "  <tbody>\n",
       "    <tr>\n",
       "      <th>0</th>\n",
       "      <td>nm0000001</td>\n",
       "      <td>Fred Astaire</td>\n",
       "      <td>1899</td>\n",
       "      <td>1987</td>\n",
       "      <td>soundtrack,actor,miscellaneous</td>\n",
       "      <td>tt0050419,tt0053137,tt0072308,tt0031983</td>\n",
       "    </tr>\n",
       "    <tr>\n",
       "      <th>1</th>\n",
       "      <td>nm0000002</td>\n",
       "      <td>Lauren Bacall</td>\n",
       "      <td>1924</td>\n",
       "      <td>2014</td>\n",
       "      <td>actress,soundtrack</td>\n",
       "      <td>tt0117057,tt0037382,tt0071877,tt0038355</td>\n",
       "    </tr>\n",
       "    <tr>\n",
       "      <th>2</th>\n",
       "      <td>nm0000003</td>\n",
       "      <td>Brigitte Bardot</td>\n",
       "      <td>1934</td>\n",
       "      <td>\\N</td>\n",
       "      <td>actress,soundtrack,music_department</td>\n",
       "      <td>tt0056404,tt0057345,tt0054452,tt0049189</td>\n",
       "    </tr>\n",
       "    <tr>\n",
       "      <th>3</th>\n",
       "      <td>nm0000004</td>\n",
       "      <td>John Belushi</td>\n",
       "      <td>1949</td>\n",
       "      <td>1982</td>\n",
       "      <td>actor,soundtrack,writer</td>\n",
       "      <td>tt0077975,tt0078723,tt0080455,tt0072562</td>\n",
       "    </tr>\n",
       "    <tr>\n",
       "      <th>4</th>\n",
       "      <td>nm0000005</td>\n",
       "      <td>Ingmar Bergman</td>\n",
       "      <td>1918</td>\n",
       "      <td>2007</td>\n",
       "      <td>writer,director,actor</td>\n",
       "      <td>tt0083922,tt0069467,tt0050986,tt0060827</td>\n",
       "    </tr>\n",
       "  </tbody>\n",
       "</table>\n",
       "</div>"
      ],
      "text/plain": [
       "      nconst      primaryName birthYear deathYear  \\\n",
       "0  nm0000001     Fred Astaire      1899      1987   \n",
       "1  nm0000002    Lauren Bacall      1924      2014   \n",
       "2  nm0000003  Brigitte Bardot      1934        \\N   \n",
       "3  nm0000004     John Belushi      1949      1982   \n",
       "4  nm0000005   Ingmar Bergman      1918      2007   \n",
       "\n",
       "                     primaryProfession  \\\n",
       "0       soundtrack,actor,miscellaneous   \n",
       "1                   actress,soundtrack   \n",
       "2  actress,soundtrack,music_department   \n",
       "3              actor,soundtrack,writer   \n",
       "4                writer,director,actor   \n",
       "\n",
       "                            knownForTitles  \n",
       "0  tt0050419,tt0053137,tt0072308,tt0031983  \n",
       "1  tt0117057,tt0037382,tt0071877,tt0038355  \n",
       "2  tt0056404,tt0057345,tt0054452,tt0049189  \n",
       "3  tt0077975,tt0078723,tt0080455,tt0072562  \n",
       "4  tt0083922,tt0069467,tt0050986,tt0060827  "
      ]
     },
     "execution_count": 14,
     "metadata": {},
     "output_type": "execute_result"
    }
   ],
   "source": [
    "df_n_basics = pd.read_csv(\"./imdb/name.basics.tsv\",'\\t')\n",
    "df_n_basics.head()"
   ]
  },
  {
   "cell_type": "code",
   "execution_count": 15,
   "id": "97ef2a57",
   "metadata": {},
   "outputs": [
    {
     "data": {
      "text/html": [
       "<div>\n",
       "<style scoped>\n",
       "    .dataframe tbody tr th:only-of-type {\n",
       "        vertical-align: middle;\n",
       "    }\n",
       "\n",
       "    .dataframe tbody tr th {\n",
       "        vertical-align: top;\n",
       "    }\n",
       "\n",
       "    .dataframe thead th {\n",
       "        text-align: right;\n",
       "    }\n",
       "</style>\n",
       "<table border=\"1\" class=\"dataframe\">\n",
       "  <thead>\n",
       "    <tr style=\"text-align: right;\">\n",
       "      <th></th>\n",
       "      <th>titleType</th>\n",
       "      <th>nconst</th>\n",
       "      <th>tconst</th>\n",
       "      <th>primaryName</th>\n",
       "    </tr>\n",
       "  </thead>\n",
       "  <tbody>\n",
       "    <tr>\n",
       "      <th>0</th>\n",
       "      <td>movie</td>\n",
       "      <td>nm0103977</td>\n",
       "      <td>797</td>\n",
       "      <td>Brahmanandam</td>\n",
       "    </tr>\n",
       "    <tr>\n",
       "      <th>1</th>\n",
       "      <td>movie</td>\n",
       "      <td>nm0648803</td>\n",
       "      <td>563</td>\n",
       "      <td>Matsunosuke Onoe</td>\n",
       "    </tr>\n",
       "    <tr>\n",
       "      <th>2</th>\n",
       "      <td>movie</td>\n",
       "      <td>nm0006982</td>\n",
       "      <td>561</td>\n",
       "      <td>Adoor Bhasi</td>\n",
       "    </tr>\n",
       "    <tr>\n",
       "      <th>3</th>\n",
       "      <td>movie</td>\n",
       "      <td>nm0305182</td>\n",
       "      <td>511</td>\n",
       "      <td>Eddie Garcia</td>\n",
       "    </tr>\n",
       "    <tr>\n",
       "      <th>4</th>\n",
       "      <td>movie</td>\n",
       "      <td>nm0706691</td>\n",
       "      <td>471</td>\n",
       "      <td>Sultan Rahi</td>\n",
       "    </tr>\n",
       "  </tbody>\n",
       "</table>\n",
       "</div>"
      ],
      "text/plain": [
       "  titleType     nconst  tconst       primaryName\n",
       "0     movie  nm0103977     797      Brahmanandam\n",
       "1     movie  nm0648803     563  Matsunosuke Onoe\n",
       "2     movie  nm0006982     561       Adoor Bhasi\n",
       "3     movie  nm0305182     511      Eddie Garcia\n",
       "4     movie  nm0706691     471       Sultan Rahi"
      ]
     },
     "execution_count": 15,
     "metadata": {},
     "output_type": "execute_result"
    }
   ],
   "source": [
    "df_merge_names = df_most_present_actors.merge(df_n_basics[['nconst','primaryName']], how=\"left\", on=\"nconst\")\n",
    "df_merge_names.head()"
   ]
  },
  {
   "cell_type": "code",
   "execution_count": 16,
   "id": "cf13fd79",
   "metadata": {},
   "outputs": [
    {
     "name": "stderr",
     "output_type": "stream",
     "text": [
      "C:\\Users\\SushX\\AppData\\Local\\Temp/ipykernel_1880/2979497097.py:1: UserWarning: Boolean Series key will be reindexed to match DataFrame index.\n",
      "  df_mpa_short = df_merge_names[(df_most_present_actors['titleType'] == 'short')]\n",
      "C:\\Users\\SushX\\AppData\\Local\\Temp/ipykernel_1880/2979497097.py:2: UserWarning: Boolean Series key will be reindexed to match DataFrame index.\n",
      "  df_mpa_movie = df_merge_names[(df_most_present_actors['titleType'] == 'movie')]\n",
      "C:\\Users\\SushX\\AppData\\Local\\Temp/ipykernel_1880/2979497097.py:3: UserWarning: Boolean Series key will be reindexed to match DataFrame index.\n",
      "  df_mpa_tvEpisode = df_merge_names[(df_most_present_actors['titleType'] == 'tvEpisode')]\n",
      "C:\\Users\\SushX\\AppData\\Local\\Temp/ipykernel_1880/2979497097.py:4: UserWarning: Boolean Series key will be reindexed to match DataFrame index.\n",
      "  df_mpa_video = df_merge_names[(df_most_present_actors['titleType'] == 'video')]\n",
      "C:\\Users\\SushX\\AppData\\Local\\Temp/ipykernel_1880/2979497097.py:5: UserWarning: Boolean Series key will be reindexed to match DataFrame index.\n",
      "  df_mpa_tvMovie = df_merge_names[(df_most_present_actors['titleType'] == 'tvMovie')]\n"
     ]
    }
   ],
   "source": [
    "df_mpa_short = df_merge_names[(df_most_present_actors['titleType'] == 'short')]\n",
    "df_mpa_movie = df_merge_names[(df_most_present_actors['titleType'] == 'movie')]\n",
    "df_mpa_tvEpisode = df_merge_names[(df_most_present_actors['titleType'] == 'tvEpisode')]\n",
    "df_mpa_video = df_merge_names[(df_most_present_actors['titleType'] == 'video')]\n",
    "df_mpa_tvMovie = df_merge_names[(df_most_present_actors['titleType'] == 'tvMovie')]"
   ]
  },
  {
   "cell_type": "code",
   "execution_count": 17,
   "id": "c8974309",
   "metadata": {},
   "outputs": [],
   "source": [
    "import seaborn as sns\n",
    "import matplotlib.pyplot as plt"
   ]
  },
  {
   "cell_type": "code",
   "execution_count": 24,
   "id": "1787f205",
   "metadata": {},
   "outputs": [
    {
     "data": {
      "text/plain": [
       "664552                              Mel Blanc\n",
       "664553                            Jack Mercer\n",
       "664554                           Scott Rivers\n",
       "664555                            Eddie Lyons\n",
       "664556                              Lee Moran\n",
       "664557                       Matsunosuke Onoe\n",
       "664558                           Oliver Hardy\n",
       "664559                     J. Warren Kerrigan\n",
       "664560    Gilbert M. 'Broncho Billy' Anderson\n",
       "664561                        Jack Richardson\n",
       "Name: primaryName, dtype: object"
      ]
     },
     "execution_count": 24,
     "metadata": {},
     "output_type": "execute_result"
    }
   ],
   "source": [
    "df_mpa_short[:10]['primaryName']"
   ]
  },
  {
   "cell_type": "code",
   "execution_count": 18,
   "id": "2563bed4",
   "metadata": {},
   "outputs": [
    {
     "data": {
      "image/png": "[encoded data removed]",
      "text/plain": [
       "<Figure size 720x360 with 1 Axes>"
      ]
     },
     "metadata": {
      "needs_background": "light"
     },
     "output_type": "display_data"
    }
   ],
   "source": [
    "fig, axs = plt.subplots(1, figsize=(10,5))\n",
    "axs = sns.barplot(data=df_mpa_short[:10],y='primaryName', x=\"tconst\", color='royalblue')\n",
    "axs.set_xlabel('number of titles')\n",
    "axs.set_ylabel('')\n",
    "plt.xticks(rotation=0)\n",
    "plt.yticks(fontsize=15)\n",
    "plt.suptitle('Top 10 Numbers of shorts per actors')\n",
    "sns.set_style(\"whitegrid\")\n",
    "plt.show()"
   ]
  },
  {
   "cell_type": "code",
   "execution_count": 26,
   "id": "3c2ae26c",
   "metadata": {},
   "outputs": [
    {
     "data": {
      "text/plain": [
       "0        Brahmanandam\n",
       "1    Matsunosuke Onoe\n",
       "2         Adoor Bhasi\n",
       "3        Eddie Garcia\n",
       "4         Sultan Rahi\n",
       "5    Masayoshi Nogami\n",
       "6        Sung-il Shin\n",
       "7             Bahadur\n",
       "8        Paquito Diaz\n",
       "9      Aachi Manorama\n",
       "Name: primaryName, dtype: object"
      ]
     },
     "execution_count": 26,
     "metadata": {},
     "output_type": "execute_result"
    }
   ],
   "source": [
    "df_mpa_movie[:10]['primaryName']"
   ]
  },
  {
   "cell_type": "code",
   "execution_count": 19,
   "id": "085b468d",
   "metadata": {},
   "outputs": [
    {
     "data": {
      "image/png": "[encoded data removed]",
      "text/plain": [
       "<Figure size 720x360 with 1 Axes>"
      ]
     },
     "metadata": {},
     "output_type": "display_data"
    }
   ],
   "source": [
    "fig, axs = plt.subplots(1, figsize=(10,5))\n",
    "axs = sns.barplot(data=df_mpa_movie[:10],y='primaryName', x=\"tconst\", color='royalblue')\n",
    "axs.set_xlabel('number of titles')\n",
    "axs.set_ylabel('')\n",
    "plt.xticks(rotation=0)\n",
    "plt.yticks(fontsize=15)\n",
    "plt.suptitle('Top 10 Numbers of movies per actors')\n",
    "sns.set_style(\"whitegrid\")\n",
    "plt.show()"
   ]
  },
  {
   "cell_type": "code",
   "execution_count": 27,
   "id": "68c1511b",
   "metadata": {},
   "outputs": [
    {
     "data": {
      "text/plain": [
       "1720700       Kenjirô Ishimaru\n",
       "1720701        Sameera Sherief\n",
       "1720702          Arnold Clavio\n",
       "1720703           Pia Arcangel\n",
       "1720704            Delhi Kumar\n",
       "1720705              Vic Sotto\n",
       "1720706          Audrey Peters\n",
       "1720707              Ron Tomme\n",
       "1720708    Subhalekha Sudhakar\n",
       "1720709             Tito Sotto\n",
       "Name: primaryName, dtype: object"
      ]
     },
     "execution_count": 27,
     "metadata": {},
     "output_type": "execute_result"
    }
   ],
   "source": [
    "df_mpa_tvEpisode[:10]['primaryName']"
   ]
  },
  {
   "cell_type": "code",
   "execution_count": 20,
   "id": "e9ce9ce4",
   "metadata": {},
   "outputs": [
    {
     "data": {
      "image/png": "[encoded data removed]",
      "text/plain": [
       "<Figure size 720x360 with 1 Axes>"
      ]
     },
     "metadata": {},
     "output_type": "display_data"
    }
   ],
   "source": [
    "fig, axs = plt.subplots(1, figsize=(10,5))\n",
    "axs = sns.barplot(data=df_mpa_tvEpisode[:10],y='primaryName', x=\"tconst\", color='royalblue')\n",
    "axs.set_xlabel('number of titles')\n",
    "axs.set_ylabel('')\n",
    "plt.xticks(rotation=0)\n",
    "plt.yticks(fontsize=15)\n",
    "plt.suptitle('Top 10 Numbers of TV Episodes per actors')\n",
    "sns.set_style(\"whitegrid\")\n",
    "plt.show()"
   ]
  },
  {
   "cell_type": "code",
   "execution_count": 21,
   "id": "90310de2",
   "metadata": {},
   "outputs": [
    {
     "data": {
      "image/png": "[encoded data removed]",
      "text/plain": [
       "<Figure size 720x360 with 1 Axes>"
      ]
     },
     "metadata": {},
     "output_type": "display_data"
    }
   ],
   "source": [
    "fig, axs = plt.subplots(1, figsize=(10,5))\n",
    "axs = sns.barplot(data=df_mpa_video[:10],y='primaryName', x=\"tconst\", color='royalblue')\n",
    "axs.set_xlabel('number of titles')\n",
    "axs.set_ylabel('')\n",
    "plt.xticks(rotation=0)\n",
    "plt.yticks(fontsize=15)\n",
    "plt.suptitle('Top 10 Numbers of Videos per actors')\n",
    "sns.set_style(\"whitegrid\")\n",
    "plt.show()"
   ]
  },
  {
   "cell_type": "code",
   "execution_count": 28,
   "id": "77f06243",
   "metadata": {},
   "outputs": [
    {
     "data": {
      "text/plain": [
       "3089733         Mick Blue\n",
       "3089734        James Deen\n",
       "3089735         Tom Byron\n",
       "3089736          Mr. Pete\n",
       "3089737     Erik Everhard\n",
       "3089738    Manuel Ferrara\n",
       "3089739        Mark Davis\n",
       "3089740    Marco Banderas\n",
       "3089741       Peter North\n",
       "3089742          T.T. Boy\n",
       "Name: primaryName, dtype: object"
      ]
     },
     "execution_count": 28,
     "metadata": {},
     "output_type": "execute_result"
    }
   ],
   "source": [
    "df_mpa_video[:10]['primaryName']"
   ]
  },
  {
   "cell_type": "code",
   "execution_count": 22,
   "id": "efd2e53a",
   "metadata": {},
   "outputs": [
    {
     "data": {
      "image/png": "[encoded data removed]",
      "text/plain": [
       "<Figure size 720x360 with 1 Axes>"
      ]
     },
     "metadata": {},
     "output_type": "display_data"
    }
   ],
   "source": [
    "fig, axs = plt.subplots(1, figsize=(10,5))\n",
    "axs = sns.barplot(data=df_mpa_tvMovie[:10],y='primaryName', x=\"tconst\", color='royalblue')\n",
    "axs.set_xlabel('number of titles')\n",
    "axs.set_ylabel('')\n",
    "plt.xticks(rotation=0)\n",
    "plt.yticks(fontsize=15)\n",
    "plt.suptitle('Top 10 Numbers of TV Movies per actors')\n",
    "sns.set_style(\"whitegrid\")\n",
    "plt.show()"
   ]
  },
  {
   "cell_type": "code",
   "execution_count": 29,
   "id": "16a8525c",
   "metadata": {},
   "outputs": [
    {
     "data": {
      "text/plain": [
       "2488144      Luís Cerqueira\n",
       "2488145         Petr Kostka\n",
       "2488146       Viktor Preiss\n",
       "2488147    Jirina Bohdalová\n",
       "2488148       Herbert Köfer\n",
       "2488149       Manuel Lereno\n",
       "2488150     Momiji Yamamura\n",
       "2488151      Peter Sattmann\n",
       "2488152     Ruy de Carvalho\n",
       "2488153       Milos Kopecký\n",
       "Name: primaryName, dtype: object"
      ]
     },
     "execution_count": 29,
     "metadata": {},
     "output_type": "execute_result"
    }
   ],
   "source": [
    "df_mpa_tvMovie[:10]['primaryName']"
   ]
  },
  {
   "cell_type": "code",
   "execution_count": null,
   "id": "644b40fe",
   "metadata": {},
   "outputs": [],
   "source": []
  }
 ],
 "metadata": {
  "kernelspec": {
   "display_name": "Python 3 (ipykernel)",
   "language": "python",
   "name": "python3"
  },
  "language_info": {
   "codemirror_mode": {
    "name": "ipython",
    "version": 3
   },
   "file_extension": ".py",
   "mimetype": "text/x-python",
   "name": "python",
   "nbconvert_exporter": "python",
   "pygments_lexer": "ipython3",
   "version": "3.9.7"
  }
 },
 "nbformat": 4,
 "nbformat_minor": 5
}
