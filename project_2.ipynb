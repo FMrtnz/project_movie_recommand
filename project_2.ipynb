{
 "cells": [
  {
   "cell_type": "code",
   "execution_count": 2,
   "id": "b195b1df",
   "metadata": {},
   "outputs": [],
   "source": [
    "# I modify\n",
    "import pandas as pd"
   ]
  },
  {
   "cell_type": "code",
   "execution_count": 23,
   "id": "67e5937b",
   "metadata": {},
   "outputs": [],
   "source": [
    "link = \"./name.basics.tsv\"\n",
    "df_names_basics = pd.read_csv(link, sep= '\\t')"
   ]
  },
  {
   "cell_type": "code",
   "execution_count": 34,
   "id": "d21b138c",
   "metadata": {},
   "outputs": [],
   "source": [
    "link = \"./title.basics.tsv\"\n",
    "df_titles_basics = pd.read_csv(link, sep= '\\t'\\\n",
    "                               , dtype={'titleId': 'str', \\\n",
    "                                      'titleType': 'str',\\\n",
    "                                      'primaryTitle': 'str',\\\n",
    "                                      'originalTitle': 'str',\\\n",
    "                                      'isAdult': 'str',\\\n",
    "                                      'startYear': 'str',\\\n",
    "                                      'endYear': 'str',\\\n",
    "                                      'runtimeMinutes': 'str',\\\n",
    "                                      'genres': 'str'} )\n",
    "\n"
   ]
  },
  {
   "cell_type": "code",
   "execution_count": null,
   "id": "774b0b93",
   "metadata": {},
   "outputs": [],
   "source": [
    "link = \"./title.crew.tsv\"\n",
    "df_titles_crew = pd.read_csv(link, sep= '\\t')\n"
   ]
  },
  {
   "cell_type": "code",
   "execution_count": 31,
   "id": "d7a79a07",
   "metadata": {},
   "outputs": [],
   "source": [
    "link = \"./title.episode.tsv\"\n",
    "df_titles_episodes = pd.read_csv(link, sep= '\\t')\n"
   ]
  },
  {
   "cell_type": "code",
   "execution_count": 35,
   "id": "b73edba3",
   "metadata": {},
   "outputs": [],
   "source": [
    "link = \"./title.principals.tsv\"\n",
    "df_titles_principals = pd.read_csv(link, sep= '\\t')"
   ]
  },
  {
   "cell_type": "code",
   "execution_count": 36,
   "id": "6424b8b8",
   "metadata": {},
   "outputs": [
    {
     "data": {
      "text/plain": [
       "nconst                     0\n",
       "primaryName                0\n",
       "birthYear                  0\n",
       "deathYear                  0\n",
       "primaryProfession    2456689\n",
       "knownForTitles             0\n",
       "dtype: int64"
      ]
     },
     "execution_count": 36,
     "metadata": {},
     "output_type": "execute_result"
    }
   ],
   "source": [
    "df_names_basics.isna().sum()"
   ]
  },
  {
   "cell_type": "code",
   "execution_count": 41,
   "id": "03bb96ee",
   "metadata": {},
   "outputs": [
    {
     "data": {
      "text/plain": [
       "21.30443714781332"
      ]
     },
     "execution_count": 41,
     "metadata": {},
     "output_type": "execute_result"
    }
   ],
   "source": [
    "df_names_basics[\"primaryProfession\"].isna().sum() / df_names_basics.shape[0] * 100\n",
    "# primaryProfession should be remove bcs more than 10%"
   ]
  }
 ],
 "metadata": {
  "kernelspec": {
   "display_name": "Python 3 (ipykernel)",
   "language": "python",
   "name": "python3"
  },
  "language_info": {
   "codemirror_mode": {
    "name": "ipython",
    "version": 3
   },
   "file_extension": ".py",
   "mimetype": "text/x-python",
   "name": "python",
   "nbconvert_exporter": "python",
   "pygments_lexer": "ipython3",
   "version": "3.9.7"
  }
 },
 "nbformat": 4,
 "nbformat_minor": 5
}
